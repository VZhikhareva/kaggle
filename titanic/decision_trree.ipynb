{
 "cells": [
  {
   "cell_type": "code",
   "execution_count": 1,
   "metadata": {},
   "outputs": [],
   "source": [
    "import sklearn \n",
    "import numpy as np\n",
    "import re\n",
    "import pandas as pd"
   ]
  },
  {
   "cell_type": "code",
   "execution_count": 2,
   "metadata": {},
   "outputs": [],
   "source": [
    "train  = pd.read_csv('C:/111/Dropbox/VitaZhik/study/доп_обучение/Kaggle/titanic/train.csv')\n",
    "test  = pd.read_csv('C:/111/Dropbox/VitaZhik/study/доп_обучение/Kaggle/titanic/test.csv')\n",
    "y = train['Survived'].values"
   ]
  },
  {
   "cell_type": "code",
   "execution_count": 3,
   "metadata": {},
   "outputs": [
    {
     "name": "stderr",
     "output_type": "stream",
     "text": [
      "C:\\Anaconda2\\lib\\site-packages\\ipykernel_launcher.py:20: SettingWithCopyWarning: \n",
      "A value is trying to be set on a copy of a slice from a DataFrame\n",
      "\n",
      "See the caveats in the documentation: http://pandas.pydata.org/pandas-docs/stable/indexing.html#indexing-view-versus-copy\n",
      "C:\\Anaconda2\\lib\\site-packages\\ipykernel_launcher.py:21: SettingWithCopyWarning: \n",
      "A value is trying to be set on a copy of a slice from a DataFrame\n",
      "\n",
      "See the caveats in the documentation: http://pandas.pydata.org/pandas-docs/stable/indexing.html#indexing-view-versus-copy\n"
     ]
    }
   ],
   "source": [
    "temp = ''\n",
    "cabs = list(train['Cabin'][:])\n",
    "cab_let = cabs[:]\n",
    "cab_num = cabs[:]\n",
    "for i in range(len(cabs)):\n",
    "    if type(cabs[i]) == str:\n",
    "        temp = re.findall('[a-zA-Z]', cabs[i])\n",
    "        cab_let[i] = temp[0]\n",
    "        temp = []\n",
    "        temp = re.findall('[0-9]+', cabs[i])\n",
    "        if len(temp) != 0:\n",
    "            cab_num[i] = int(temp[0])\n",
    "        else:\n",
    "            cab_num[i] = 0\n",
    "        temp = []\n",
    "train['cab_num'] = cab_num\n",
    "train['cab_let'] = cab_let\n",
    "train.drop(columns = ['Cabin'])\n",
    "\n",
    "train['Sex'][train['Sex'] == 'female'] = 1\n",
    "train['Sex'][train['Sex'] == 'male'] = 0"
   ]
  },
  {
   "cell_type": "code",
   "execution_count": 4,
   "metadata": {},
   "outputs": [
    {
     "name": "stderr",
     "output_type": "stream",
     "text": [
      "C:\\Anaconda2\\lib\\site-packages\\ipykernel_launcher.py:17: SettingWithCopyWarning: \n",
      "A value is trying to be set on a copy of a slice from a DataFrame\n",
      "\n",
      "See the caveats in the documentation: http://pandas.pydata.org/pandas-docs/stable/indexing.html#indexing-view-versus-copy\n",
      "C:\\Anaconda2\\lib\\site-packages\\ipykernel_launcher.py:19: SettingWithCopyWarning: \n",
      "A value is trying to be set on a copy of a slice from a DataFrame\n",
      "\n",
      "See the caveats in the documentation: http://pandas.pydata.org/pandas-docs/stable/indexing.html#indexing-view-versus-copy\n",
      "C:\\Anaconda2\\lib\\site-packages\\ipykernel_launcher.py:21: SettingWithCopyWarning: \n",
      "A value is trying to be set on a copy of a slice from a DataFrame\n",
      "\n",
      "See the caveats in the documentation: http://pandas.pydata.org/pandas-docs/stable/indexing.html#indexing-view-versus-copy\n"
     ]
    }
   ],
   "source": [
    "import sklearn\n",
    "from sklearn.preprocessing import OneHotEncoder\n",
    "\"\"\"\n",
    "Dummy-encoding of 'Embarked'\n",
    "C, S, Q\n",
    "\"\"\"\n",
    "Snum = sum(sum([train['Embarked'] == 'S']))\n",
    "Cnum = sum(sum([train['Embarked'] == 'C']))\n",
    "Qnum = sum(sum([train['Embarked'] == 'Q']))\n",
    "\n",
    "enc = OneHotEncoder(handle_unknown='ignore')\n",
    "X = [['S', Snum], ['C', Cnum], ['Q', Qnum]]\n",
    "enc.fit(X)\n",
    "dummy_embarked = enc.transform(X).toarray()\n",
    "for i in range(len(train)):\n",
    "    if train['Embarked'][i] == 'S':\n",
    "        train['Embarked'][i] = dummy_embarked[0]\n",
    "    elif train['Embarked'][i] == 'C':\n",
    "        train['Embarked'][i] = dummy_embarked[1]\n",
    "    elif train['Embarked'][i] == 'Q':\n",
    "        train['Embarked'][i] = dummy_embarked[2]\n",
    "        \n",
    "emberked_list = []\n",
    "for i in range(len(train['Embarked'])):\n",
    "    emberked_list.append(train['Embarked'][i])"
   ]
  },
  {
   "cell_type": "code",
   "execution_count": 5,
   "metadata": {},
   "outputs": [],
   "source": [
    "cab_let_uniqs = train['cab_let'].unique()\n",
    "nan_n = sum(pd.isna(train['cab_let']))\n",
    "nums = []\n"
   ]
  },
  {
   "cell_type": "code",
   "execution_count": 6,
   "metadata": {},
   "outputs": [],
   "source": [
    "for i in range(1, len(cab_let_uniqs)):\n",
    "    nums.append(sum(train['cab_let'] == cab_let_uniqs[i]))\n",
    "# for i in range(len(train['cab_let'])):\n",
    "#     for j in range(1, len(cab_let_uniqs)):\n",
    "#         if train['cab_let'][i] == cab_let_uniqs[j]:\n",
    "#             train['cab_let'][i] = round(1/nums[j-1], 6)"
   ]
  },
  {
   "cell_type": "code",
   "execution_count": 7,
   "metadata": {},
   "outputs": [
    {
     "data": {
      "text/plain": [
       "[0.14, 0.28, 0.42, 0.56, 0.7, 0.84, 0.98]"
      ]
     },
     "execution_count": 7,
     "metadata": {},
     "output_type": "execute_result"
    }
   ],
   "source": [
    "cab_coef = [i for i in range(round((100/(len(cab_let_uniqs) - 2))), 100, round((100/(len(cab_let_uniqs) - 2))))]\n",
    "cab_coef = [cab_coef[i]/100 for i in range(len(cab_coef))]\n",
    "cab_coef"
   ]
  },
  {
   "cell_type": "code",
   "execution_count": 8,
   "metadata": {},
   "outputs": [
    {
     "name": "stderr",
     "output_type": "stream",
     "text": [
      "C:\\Anaconda2\\lib\\site-packages\\ipykernel_launcher.py:11: SettingWithCopyWarning: \n",
      "A value is trying to be set on a copy of a slice from a DataFrame\n",
      "\n",
      "See the caveats in the documentation: http://pandas.pydata.org/pandas-docs/stable/indexing.html#indexing-view-versus-copy\n",
      "  # This is added back by InteractiveShellApp.init_path()\n",
      "C:\\Anaconda2\\lib\\site-packages\\ipykernel_launcher.py:7: SettingWithCopyWarning: \n",
      "A value is trying to be set on a copy of a slice from a DataFrame\n",
      "\n",
      "See the caveats in the documentation: http://pandas.pydata.org/pandas-docs/stable/indexing.html#indexing-view-versus-copy\n",
      "  import sys\n",
      "C:\\Anaconda2\\lib\\site-packages\\ipykernel_launcher.py:3: SettingWithCopyWarning: \n",
      "A value is trying to be set on a copy of a slice from a DataFrame\n",
      "\n",
      "See the caveats in the documentation: http://pandas.pydata.org/pandas-docs/stable/indexing.html#indexing-view-versus-copy\n",
      "  This is separate from the ipykernel package so we can avoid doing imports until\n",
      "C:\\Anaconda2\\lib\\site-packages\\ipykernel_launcher.py:9: SettingWithCopyWarning: \n",
      "A value is trying to be set on a copy of a slice from a DataFrame\n",
      "\n",
      "See the caveats in the documentation: http://pandas.pydata.org/pandas-docs/stable/indexing.html#indexing-view-versus-copy\n",
      "  if __name__ == '__main__':\n",
      "C:\\Anaconda2\\lib\\site-packages\\ipykernel_launcher.py:15: SettingWithCopyWarning: \n",
      "A value is trying to be set on a copy of a slice from a DataFrame\n",
      "\n",
      "See the caveats in the documentation: http://pandas.pydata.org/pandas-docs/stable/indexing.html#indexing-view-versus-copy\n",
      "  from ipykernel import kernelapp as app\n",
      "C:\\Anaconda2\\lib\\site-packages\\ipykernel_launcher.py:13: SettingWithCopyWarning: \n",
      "A value is trying to be set on a copy of a slice from a DataFrame\n",
      "\n",
      "See the caveats in the documentation: http://pandas.pydata.org/pandas-docs/stable/indexing.html#indexing-view-versus-copy\n",
      "  del sys.path[0]\n",
      "C:\\Anaconda2\\lib\\site-packages\\ipykernel_launcher.py:5: SettingWithCopyWarning: \n",
      "A value is trying to be set on a copy of a slice from a DataFrame\n",
      "\n",
      "See the caveats in the documentation: http://pandas.pydata.org/pandas-docs/stable/indexing.html#indexing-view-versus-copy\n",
      "  \"\"\"\n",
      "C:\\Anaconda2\\lib\\site-packages\\ipykernel_launcher.py:17: SettingWithCopyWarning: \n",
      "A value is trying to be set on a copy of a slice from a DataFrame\n",
      "\n",
      "See the caveats in the documentation: http://pandas.pydata.org/pandas-docs/stable/indexing.html#indexing-view-versus-copy\n"
     ]
    }
   ],
   "source": [
    "for i in range(len(train['cab_let'])):\n",
    "    if train['cab_let'][i] == 'G':\n",
    "        train['cab_let'][i] = cab_coef[0]\n",
    "    if train['cab_let'][i] == 'F':\n",
    "        train['cab_let'][i] = cab_coef[1]\n",
    "    if train['cab_let'][i] == 'E':\n",
    "        train['cab_let'][i] = cab_coef[2]\n",
    "    if train['cab_let'][i] == 'D':\n",
    "        train['cab_let'][i] = cab_coef[3]\n",
    "    if train['cab_let'][i] == 'C':\n",
    "        train['cab_let'][i] = cab_coef[4]\n",
    "    if train['cab_let'][i] == 'B':\n",
    "        train['cab_let'][i] = cab_coef[5]\n",
    "    if train['cab_let'][i] == 'A':\n",
    "        train['cab_let'][i] = cab_coef[6]\n",
    "    if train['cab_let'][i] == 'T':\n",
    "        train['cab_let'][i] = 0          \n",
    "               "
   ]
  },
  {
   "cell_type": "code",
   "execution_count": 9,
   "metadata": {},
   "outputs": [
    {
     "name": "stderr",
     "output_type": "stream",
     "text": [
      "C:\\Anaconda2\\lib\\site-packages\\ipykernel_launcher.py:1: SettingWithCopyWarning: \n",
      "A value is trying to be set on a copy of a slice from a DataFrame\n",
      "\n",
      "See the caveats in the documentation: http://pandas.pydata.org/pandas-docs/stable/indexing.html#indexing-view-versus-copy\n",
      "  \"\"\"Entry point for launching an IPython kernel.\n",
      "C:\\Anaconda2\\lib\\site-packages\\ipykernel_launcher.py:2: SettingWithCopyWarning: \n",
      "A value is trying to be set on a copy of a slice from a DataFrame\n",
      "\n",
      "See the caveats in the documentation: http://pandas.pydata.org/pandas-docs/stable/indexing.html#indexing-view-versus-copy\n",
      "  \n",
      "C:\\Anaconda2\\lib\\site-packages\\ipykernel_launcher.py:3: SettingWithCopyWarning: \n",
      "A value is trying to be set on a copy of a slice from a DataFrame\n",
      "\n",
      "See the caveats in the documentation: http://pandas.pydata.org/pandas-docs/stable/indexing.html#indexing-view-versus-copy\n",
      "  This is separate from the ipykernel package so we can avoid doing imports until\n",
      "C:\\Anaconda2\\lib\\site-packages\\ipykernel_launcher.py:5: SettingWithCopyWarning: \n",
      "A value is trying to be set on a copy of a slice from a DataFrame\n",
      "\n",
      "See the caveats in the documentation: http://pandas.pydata.org/pandas-docs/stable/indexing.html#indexing-view-versus-copy\n",
      "  \"\"\"\n"
     ]
    }
   ],
   "source": [
    "train['cab_num'][train['cab_num'].isna() == True] = 0\n",
    "train['cab_let'][train['cab_let'].isna() == True] = 0.5\n",
    "train['Age'][train['Age'].isna() == True] = 0\n",
    "nn = sum(train['Age'] == 0)\n",
    "train['Age'][train['Age'] == 0] = int(sum(train['Age'])/(len(train) - nn))\n",
    "train = train.drop(columns = ['Cabin','Name', 'Ticket', 'Embarked', 'PassengerId', 'Survived', 'cab_num']) #'Sex', 'Age', 'SibSp', 'Fare'"
   ]
  },
  {
   "cell_type": "code",
   "execution_count": 10,
   "metadata": {},
   "outputs": [
    {
     "name": "stdout",
     "output_type": "stream",
     "text": [
      "61\n",
      "829\n"
     ]
    }
   ],
   "source": [
    "for i in range(len(emberked_list)):\n",
    "    if type(emberked_list[i]) == float:\n",
    "        print(i)\n",
    "emberked_list[61] = [0]*6\n",
    "emberked_list[829] = [0]*6"
   ]
  },
  {
   "cell_type": "code",
   "execution_count": 11,
   "metadata": {},
   "outputs": [],
   "source": [
    "X = np.array(train)\n",
    "X = X.tolist()\n",
    "emberked_list = (np.array(emberked_list)).tolist()\n",
    "for i in range(len(X)):\n",
    "    X[i] += emberked_list[i]"
   ]
  },
  {
   "cell_type": "code",
   "execution_count": 12,
   "metadata": {},
   "outputs": [
    {
     "data": {
      "text/plain": [
       "891"
      ]
     },
     "execution_count": 12,
     "metadata": {},
     "output_type": "execute_result"
    }
   ],
   "source": [
    "len(X)"
   ]
  },
  {
   "cell_type": "code",
   "execution_count": 13,
   "metadata": {},
   "outputs": [
    {
     "ename": "NameError",
     "evalue": "name 'clf' is not defined",
     "output_type": "error",
     "traceback": [
      "\u001b[1;31m---------------------------------------------------------------------------\u001b[0m",
      "\u001b[1;31mNameError\u001b[0m                                 Traceback (most recent call last)",
      "\u001b[1;32m<ipython-input-13-b9c89d294f77>\u001b[0m in \u001b[0;36m<module>\u001b[1;34m\u001b[0m\n\u001b[1;32m----> 1\u001b[1;33m \u001b[0mclf\u001b[0m\u001b[1;33m\u001b[0m\u001b[1;33m\u001b[0m\u001b[0m\n\u001b[0m",
      "\u001b[1;31mNameError\u001b[0m: name 'clf' is not defined"
     ]
    }
   ],
   "source": [
    "clf"
   ]
  },
  {
   "cell_type": "code",
   "execution_count": null,
   "metadata": {},
   "outputs": [],
   "source": [
    "from sklearn import tree\n",
    "from sklearn.ensemble import AdaBoostClassifier\n",
    "\n",
    "from sklearn.model_selection import KFold\n",
    "from sklearn.model_selection import cross_val_score\n",
    "\n",
    "\n",
    "# tr_data = X[0:700]\n",
    "# tr_y = y[0:700]\n",
    "# valid_data = X[701:-1]\n",
    "# valid_y = y[701:-1]\n",
    "# ll = len(valid_y)\n",
    "acc = 0\n",
    "alpha = 15\n",
    "best_accuracy = 0\n",
    "best_depth = alpha\n",
    "while alpha > 0 and acc < 1 :      \n",
    "    clf = AdaBoostClassifier(base_estimator = tree.DecisionTreeClassifier(max_depth = alpha), n_estimators = 200,\n",
    "                             learning_rate = 0.9, algorithm = 'SAMME')\n",
    "#     clf = clf.fit(tr_data, tr_y)\n",
    "    kf = KFold(n_splits = 6)\n",
    "    results = cross_val_score(clf, X, y, cv=kf)\n",
    "    results = round(sum(results)/len(results), 3)\n",
    "#     acc = 1 - sum(abs(clf.predict(valid_data) - valid_y))/ll\n",
    "    if results > best_accuracy:\n",
    "        best_accuracy = results\n",
    "        best_depth = alpha\n",
    "    print('avg accuracy: ', results, 'max_depth: ', alpha)\n",
    "    alpha -= 1\n"
   ]
  },
  {
   "cell_type": "code",
   "execution_count": null,
   "metadata": {},
   "outputs": [],
   "source": [
    "clf.max_depth = best_depth\n",
    "clf.fit(X, y)"
   ]
  },
  {
   "cell_type": "raw",
   "metadata": {},
   "source": [
    "TEST"
   ]
  },
  {
   "cell_type": "code",
   "execution_count": null,
   "metadata": {},
   "outputs": [],
   "source": [
    "import re\n",
    "temp = ''\n",
    "cabs = list(test['Cabin'][:])\n",
    "cab_let = cabs[:]\n",
    "cab_num = cabs[:]\n",
    "for i in range(len(cabs)):\n",
    "    if type(cabs[i]) == str:\n",
    "        temp = re.findall('[a-zA-Z]', cabs[i])\n",
    "        cab_let[i] = temp[0]\n",
    "        temp = []\n",
    "        temp = re.findall('[0-9]+', cabs[i])\n",
    "        if len(temp) != 0:\n",
    "            cab_num[i] = int(temp[0])\n",
    "        else:\n",
    "            cab_num[i] = 0\n",
    "        temp = []\n",
    "test['cab_num'] = cab_num\n",
    "test['cab_let'] = cab_let\n",
    "test.drop(columns = ['Cabin'])\n",
    "\n",
    "test['Sex'][test['Sex'] == 'female'] = 1\n",
    "test['Sex'][test['Sex'] == 'male'] = 0"
   ]
  },
  {
   "cell_type": "code",
   "execution_count": null,
   "metadata": {},
   "outputs": [],
   "source": [
    "import sklearn\n",
    "from sklearn.preprocessing import OneHotEncoder\n",
    "\"\"\"\n",
    "Dummy-encoding of 'Embarked'\n",
    "C, S, Q\n",
    "\"\"\"\n",
    "Snum = sum(sum([test['Embarked'] == 'S']))\n",
    "Cnum = sum(sum([test['Embarked'] == 'C']))\n",
    "Qnum = sum(sum([test['Embarked'] == 'Q']))\n",
    "\n",
    "# enc = OneHotEncoder(handle_unknown='ignore')\n",
    "# X = [['S', Snum], ['C', Cnum], ['Q', Qnum]]\n",
    "# enc.fit(X)\n",
    "# dummy_embarked = enc.transform(X).toarray()\n",
    "for i in range(len(test)):\n",
    "    if test['Embarked'][i] == 'S':\n",
    "        test['Embarked'][i] = dummy_embarked[0]\n",
    "    elif test['Embarked'][i] == 'C':\n",
    "        test['Embarked'][i] = dummy_embarked[1]\n",
    "    elif test['Embarked'][i] == 'Q':\n",
    "        test['Embarked'][i] = dummy_embarked[2]\n",
    "        \n",
    "        \n",
    "emberked_list = []\n",
    "for i in range(len(test['Embarked'])):\n",
    "    emberked_list.append(test['Embarked'][i])\n",
    "    \n",
    "cab_let_uniqs = test['cab_let'].unique()\n",
    "nan_n = sum(pd.isna(test['cab_let']))    \n",
    "\n",
    "nums = []\n",
    "for i in range(1, len(cab_let_uniqs)):\n",
    "    nums.append(sum(test['cab_let'] == cab_let_uniqs[i]))\n",
    "for i in range(len(test['cab_let'])):\n",
    "    for j in range(1, len(cab_let_uniqs)):\n",
    "        if test['cab_let'][i] == cab_let_uniqs[j]:\n",
    "            test['cab_let'][i] = round(1/nums[j-1], 6)"
   ]
  },
  {
   "cell_type": "code",
   "execution_count": null,
   "metadata": {},
   "outputs": [],
   "source": [
    "cab_let_uniqs = test['cab_let'].unique()\n",
    "nan_n = sum(pd.isna(test['cab_let']))\n",
    "nums = []\n",
    "for i in range(1, len(cab_let_uniqs)):\n",
    "    nums.append(sum(test['cab_let'] == cab_let_uniqs[i]))\n",
    "# for i in range(len(test['cab_let'])):\n",
    "#     for j in range(1, len(cab_let_uniqs)):\n",
    "#         if test['cab_let'][i] == cab_let_uniqs[j]:\n",
    "#             test['cab_let'][i] = round(1/nums[j-1], 6)\n",
    "\n",
    "cab_coef = [i for i in range(round((100/(len(cab_let_uniqs) - 2))), 100, round((100/(len(cab_let_uniqs) - 2))))]\n",
    "cab_coef = [cab_coef[i]/100 for i in range(len(cab_coef))]\n",
    "\n",
    "for i in range(len(train['cab_let'])):\n",
    "    if train['cab_let'][i] == 'G':\n",
    "        train['cab_let'][i] = cab_coef[0]\n",
    "    if train['cab_let'][i] == 'F':\n",
    "        train['cab_let'][i] = cab_coef[1]\n",
    "    if train['cab_let'][i] == 'E':\n",
    "        train['cab_let'][i] = cab_coef[2]\n",
    "    if train['cab_let'][i] == 'D':\n",
    "        train['cab_let'][i] = cab_coef[3]\n",
    "    if train['cab_let'][i] == 'C':\n",
    "        train['cab_let'][i] = cab_coef[4]\n",
    "    if train['cab_let'][i] == 'B':\n",
    "        train['cab_let'][i] = cab_coef[5]\n",
    "    if train['cab_let'][i] == 'A':\n",
    "        train['cab_let'][i] = cab_coef[6]\n",
    "    if train['cab_let'][i] == 'T':\n",
    "        train['cab_let'][i] = 0          \n",
    "               \n",
    "\n",
    "test['cab_num'][test['cab_num'].isna() == True] = 0\n",
    "test['cab_let'][test['cab_let'].isna() == True] = 0.5\n",
    "test['Age'][test['Age'].isna() == True] = 0\n",
    "nn = sum(test['Age'] == 0)\n",
    "test['Age'][test['Age'] == 0] = int(sum(test['Age'])/(len(test) - nn))\n",
    "test = test.drop(columns = ['Cabin','Name', 'Ticket', 'Embarked', 'PassengerId', 'cab_num'])  ### 'Sex', 'Age', 'SibSp', 'Fare'\n"
   ]
  },
  {
   "cell_type": "code",
   "execution_count": null,
   "metadata": {},
   "outputs": [],
   "source": [
    "test[test['Fare'].isnull()] = 35.5"
   ]
  },
  {
   "cell_type": "code",
   "execution_count": null,
   "metadata": {},
   "outputs": [],
   "source": [
    "for i in range(len(emberked_list)):\n",
    "    if type(emberked_list[i]) == float:\n",
    "        print(i)\n",
    "Z = np.array(test)\n",
    "Z = Z.tolist()\n",
    "emberked_list = (np.array(emberked_list)).tolist()\n",
    "for i in range(len(Z)):\n",
    "    Z[i] += emberked_list[i]\n",
    "    \n",
    "Z = np.asarray(Z)"
   ]
  },
  {
   "cell_type": "code",
   "execution_count": null,
   "metadata": {},
   "outputs": [],
   "source": [
    "clf"
   ]
  },
  {
   "cell_type": "code",
   "execution_count": null,
   "metadata": {},
   "outputs": [],
   "source": [
    "result = pd.read_csv('C:/111/Dropbox/VitaZhik/study/доп_обучение/Kaggle/titanic/gender_submission.csv')\n",
    "result['Survived'] = [int(x) for x in clf.predict(Z)]"
   ]
  },
  {
   "cell_type": "code",
   "execution_count": null,
   "metadata": {},
   "outputs": [],
   "source": [
    "result.to_csv('C:/111/Dropbox/VitaZhik/study/доп_обучение/Kaggle/titanic/submission_result.csv', index=False)"
   ]
  }
 ],
 "metadata": {
  "kernelspec": {
   "display_name": "Python 3",
   "language": "python",
   "name": "python3"
  },
  "language_info": {
   "codemirror_mode": {
    "name": "ipython",
    "version": 3
   },
   "file_extension": ".py",
   "mimetype": "text/x-python",
   "name": "python",
   "nbconvert_exporter": "python",
   "pygments_lexer": "ipython3",
   "version": "3.6.8"
  }
 },
 "nbformat": 4,
 "nbformat_minor": 2
}
